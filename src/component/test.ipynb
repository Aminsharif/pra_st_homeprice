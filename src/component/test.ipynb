{
 "cells": [
  {
   "cell_type": "code",
   "execution_count": 2,
   "metadata": {},
   "outputs": [
    {
     "name": "stdout",
     "output_type": "stream",
     "text": [
      "init cnal\n"
     ]
    }
   ],
   "source": [
    "\n",
    "import os\n",
    "import sys\n",
    "from src.logger import logging\n",
    "from src.exception import CustomException\n",
    "import pandas as pd\n",
    "from sklearn.model_selection import train_test_split\n",
    "from dataclasses import dataclass\n",
    "\n",
    "# from src.components.data_transformation import DataTransformation\n",
    "\n",
    "\n",
    "## Intitialize the Data Ingetion Configuration\n",
    "\n",
    "@dataclass\n",
    "class DataIngestionconfig:\n",
    "    train_data_path:str=os.path.join('artifacts','train.csv')\n",
    "    test_data_path:str=os.path.join('artifacts','test.csv')\n",
    "    raw_data_path:str=os.path.join('artifacts','raw.csv')\n",
    "\n",
    "## create a class for Data Ingestion\n",
    "class DataIngestion:\n",
    "    def __init__(self):\n",
    "        self.ingestion_config=DataIngestionconfig()\n",
    "\n",
    "    def initiate_data_ingestion(self):\n",
    "        logging.info('Data Ingestion methods Starts')\n",
    "        try:\n",
    "            df=pd.read_csv(os.path.join('notebooks/data','gemstone.csv'))\n",
    "            logging.info('Dataset read as pandas Dataframe')\n",
    "\n",
    "            os.makedirs(os.path.dirname(self.ingestion_config.raw_data_path),exist_ok=True)\n",
    "            df.to_csv(self.ingestion_config.raw_data_path,index=False)\n",
    "            logging.info('Train test split')\n",
    "            train_set,test_set=train_test_split(df,test_size=0.30,random_state=42)\n",
    "\n",
    "            train_set.to_csv(self.ingestion_config.train_data_path,index=False,header=True)\n",
    "            test_set.to_csv(self.ingestion_config.test_data_path,index=False,header=True)\n",
    "\n",
    "            logging.info('Ingestion of Data is completed')\n",
    "\n",
    "            return(\n",
    "                self.ingestion_config.train_data_path,\n",
    "                self.ingestion_config.test_data_path\n",
    "            )\n",
    "  \n",
    "            \n",
    "        except Exception as e:\n",
    "            logging.info('Exception occured at Data Ingestion stage')\n",
    "            raise CustomException(e,sys)"
   ]
  }
 ],
 "metadata": {
  "kernelspec": {
   "display_name": "Python 3",
   "language": "python",
   "name": "python3"
  },
  "language_info": {
   "codemirror_mode": {
    "name": "ipython",
    "version": 3
   },
   "file_extension": ".py",
   "mimetype": "text/x-python",
   "name": "python",
   "nbconvert_exporter": "python",
   "pygments_lexer": "ipython3",
   "version": "3.8.0"
  }
 },
 "nbformat": 4,
 "nbformat_minor": 2
}
